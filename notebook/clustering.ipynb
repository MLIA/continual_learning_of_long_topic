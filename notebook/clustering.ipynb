{
 "cells": [
  {
   "cell_type": "code",
   "execution_count": 1,
   "id": "481c3aa5",
   "metadata": {},
   "outputs": [],
   "source": [
    "import ir_datasets\n",
    "import pandas as pd"
   ]
  },
  {
   "cell_type": "code",
   "execution_count": 2,
   "id": "693b37bd",
   "metadata": {},
   "outputs": [],
   "source": [
    "dataset = ir_datasets.load('msmarco-passage/train/judged')"
   ]
  },
  {
   "cell_type": "code",
   "execution_count": 3,
   "id": "98ab26f8",
   "metadata": {},
   "outputs": [
    {
     "name": "stdout",
     "output_type": "stream",
     "text": [
      "Loading qrels\n",
      "Loading documents\n",
      "Loading queries\n"
     ]
    }
   ],
   "source": [
    "print(\"Loading qrels\")\n",
    "qrels_collection =\\\n",
    "    pd.DataFrame.from_records(dataset.qrels_iter(),\n",
    "                                columns=['query_id', 'doc_id', 'relevance','iteration'],\n",
    "                                index='query_id')\n",
    "print(\"Loading documents\")\n",
    "documents_collection =\\\n",
    "    pd.DataFrame.from_records(dataset.docs_iter(),\n",
    "                                columns=['doc_id', 'text'],\n",
    "                                index='doc_id')\n",
    "print(\"Loading queries\")\n",
    "queries_collection =\\\n",
    "    pd.DataFrame.from_records(dataset.queries_iter(),\n",
    "                                columns=['query_id', 'text'],\n",
    "                                index='query_id')"
   ]
  },
  {
   "cell_type": "code",
   "execution_count": 41,
   "id": "31e81524",
   "metadata": {},
   "outputs": [],
   "source": [
    "from lire.dataset import generate_dataset"
   ]
  },
  {
   "cell_type": "code",
   "execution_count": 47,
   "id": "64d5d5b2",
   "metadata": {},
   "outputs": [],
   "source": [
    "subsample = text_queries[: 10000]"
   ]
  },
  {
   "cell_type": "code",
   "execution_count": 49,
   "id": "5aac71b6",
   "metadata": {},
   "outputs": [],
   "source": [
    "generator = ContinualGenerator(subsample)"
   ]
  },
  {
   "cell_type": "code",
   "execution_count": 72,
   "id": "dedd7b44",
   "metadata": {
    "scrolled": true
   },
   "outputs": [
    {
     "data": {
      "application/vnd.jupyter.widget-view+json": {
       "model_id": "11d3ea97eed64707961a20602326edfc",
       "version_major": 2,
       "version_minor": 0
      },
      "text/plain": [
       "Batches:   0%|          | 0/32 [00:00<?, ?it/s]"
      ]
     },
     "metadata": {},
     "output_type": "display_data"
    },
    {
     "name": "stdout",
     "output_type": "stream",
     "text": [
      "Computing the cos score on  500  embeddings\n",
      "Retrieve the  5  closest neigbhors for each embeddings (max similarity)\n",
      "Create the communities\n",
      "Filtering communities to avoid overlapping (at the time there is  59  communities)\n",
      "creating real clusters according to number of examples by clusters\n",
      "1000\n",
      "59\n"
     ]
    }
   ],
   "source": [
    "clusters, embeddings = generator.generate(t1=0.5, t2=0.5, mcs=10, estimation_set_size=500)\n",
    "\n",
    "\n",
    "# three generation with parameters\n",
    "# small 0.7 0.5 (mcs must be higher)\n",
    "# medium 0.75 0.5\n",
    "# large 0.75 0.55 (mcs must be lower)"
   ]
  },
  {
   "cell_type": "code",
   "execution_count": 69,
   "id": "c438fd31",
   "metadata": {},
   "outputs": [
    {
     "data": {
      "text/plain": [
       "53"
      ]
     },
     "execution_count": 69,
     "metadata": {},
     "output_type": "execute_result"
    }
   ],
   "source": [
    "len(clusters)"
   ]
  },
  {
   "cell_type": "code",
   "execution_count": 71,
   "id": "d99b3185",
   "metadata": {},
   "outputs": [
    {
     "data": {
      "text/plain": [
       "[text    what is an example of paracrine signaling\n",
       " Name: 714345, dtype: object,\n",
       " text    can depression cause insomnia\n",
       " Name: 66378, dtype: object,\n",
       " text    what is substance p\n",
       " Name: 800666, dtype: object,\n",
       " text    how many paracetamol is an overdose\n",
       " Name: 291598, dtype: object]"
      ]
     },
     "execution_count": 71,
     "metadata": {},
     "output_type": "execute_result"
    }
   ],
   "source": [
    "[queries_collection.loc[i] for  i in clusters[0]]"
   ]
  },
  {
   "cell_type": "code",
   "execution_count": null,
   "id": "4aebe034",
   "metadata": {},
   "outputs": [],
   "source": []
  }
 ],
 "metadata": {
  "kernelspec": {
   "display_name": "Python 3 (ipykernel)",
   "language": "python",
   "name": "python3"
  },
  "language_info": {
   "codemirror_mode": {
    "name": "ipython",
    "version": 3
   },
   "file_extension": ".py",
   "mimetype": "text/x-python",
   "name": "python",
   "nbconvert_exporter": "python",
   "pygments_lexer": "ipython3",
   "version": "3.8.12"
  }
 },
 "nbformat": 4,
 "nbformat_minor": 5
}
