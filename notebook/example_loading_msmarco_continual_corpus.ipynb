{
 "cells": [
  {
   "cell_type": "code",
   "execution_count": 1,
   "id": "96dc3157",
   "metadata": {},
   "outputs": [
    {
     "name": "stdout",
     "output_type": "stream",
     "text": [
      "/people/gerald/Documents/repositories/continual_learning_of_long_topic\n"
     ]
    }
   ],
   "source": [
    "cd .."
   ]
  },
  {
   "cell_type": "code",
   "execution_count": 2,
   "id": "e34e4b79",
   "metadata": {},
   "outputs": [],
   "source": [
    "from lire.dataset import msmarco\n",
    "import os\n",
    "os.environ['DATA_FOLDER'] = './storage'"
   ]
  },
  {
   "cell_type": "markdown",
   "id": "7b9a77ab",
   "metadata": {},
   "source": [
    "## Loading the dataset\n",
    "To load the dataset call the MSMarcoRankingDataset, notice it will need pyserini correctly installed. If an error occurs in this example you probably should update your java version."
   ]
  },
  {
   "cell_type": "code",
   "execution_count": 5,
   "id": "4861b612",
   "metadata": {
    "scrolled": true
   },
   "outputs": [
    {
     "name": "stdout",
     "output_type": "stream",
     "text": [
      "Loading qrels\n",
      "Loading documents\n",
      "Loading queries\n",
      "loading triplet\n",
      "loading scoreddocs\n",
      "loading scoreddocs\n"
     ]
    }
   ],
   "source": [
    "# it can be costly in term of memory ~ 20 Go if load_triplets is set to true, first time dataset is created can be quiet long\n",
    "dataset = msmarco.MSMarcoRankingDataset(\n",
    "    'ressources/V1.0/MsMarco-continual-medium/', \n",
    "    load_triplets=True, \n",
    "    bm25_compute=True\n",
    ")"
   ]
  },
  {
   "cell_type": "code",
   "execution_count": 9,
   "id": "869b2d51",
   "metadata": {},
   "outputs": [],
   "source": [
    "dataset.set_split('val')\n",
    "dataset.triplets_collection = None\n",
    "#dataset.set_n_sample_negative(2) # if using negative does not work for the dev (test set)"
   ]
  },
  {
   "cell_type": "code",
   "execution_count": 10,
   "id": "92b1117b",
   "metadata": {},
   "outputs": [
    {
     "ename": "IndexError",
     "evalue": "list index out of range",
     "output_type": "error",
     "traceback": [
      "\u001b[0;31m---------------------------------------------------------------------------\u001b[0m",
      "\u001b[0;31mIndexError\u001b[0m                                Traceback (most recent call last)",
      "\u001b[0;32m/tmp/ipykernel_92952/2411785438.py\u001b[0m in \u001b[0;36m<module>\u001b[0;34m\u001b[0m\n\u001b[0;32m----> 1\u001b[0;31m \u001b[0mdataset\u001b[0m\u001b[0;34m[\u001b[0m\u001b[0;36m0\u001b[0m\u001b[0;34m]\u001b[0m\u001b[0;34m\u001b[0m\u001b[0;34m\u001b[0m\u001b[0m\n\u001b[0m",
      "\u001b[0;32m~/Documents/repositories/continual_learning_of_long_topic/lire/dataset/msmarco.py\u001b[0m in \u001b[0;36m__getitem__\u001b[0;34m(self, index)\u001b[0m\n\u001b[1;32m    343\u001b[0m \u001b[0;34m\u001b[0m\u001b[0m\n\u001b[1;32m    344\u001b[0m     \u001b[0;32mdef\u001b[0m \u001b[0m__getitem__\u001b[0m\u001b[0;34m(\u001b[0m\u001b[0mself\u001b[0m\u001b[0;34m,\u001b[0m \u001b[0mindex\u001b[0m\u001b[0;34m)\u001b[0m\u001b[0;34m:\u001b[0m\u001b[0;34m\u001b[0m\u001b[0;34m\u001b[0m\u001b[0m\n\u001b[0;32m--> 345\u001b[0;31m         \u001b[0moutput_dict\u001b[0m \u001b[0;34m=\u001b[0m \u001b[0msuper\u001b[0m\u001b[0;34m(\u001b[0m\u001b[0;34m)\u001b[0m\u001b[0;34m.\u001b[0m\u001b[0m__getitem__\u001b[0m\u001b[0;34m(\u001b[0m\u001b[0mindex\u001b[0m\u001b[0;34m)\u001b[0m\u001b[0;34m\u001b[0m\u001b[0;34m\u001b[0m\u001b[0m\n\u001b[0m\u001b[1;32m    346\u001b[0m         \u001b[0moutput_dict\u001b[0m\u001b[0;34m[\u001b[0m\u001b[0;34m\"tid\"\u001b[0m\u001b[0;34m]\u001b[0m \u001b[0;34m=\u001b[0m \u001b[0mself\u001b[0m\u001b[0;34m.\u001b[0m\u001b[0mquery2task_collection\u001b[0m\u001b[0;34m[\u001b[0m\u001b[0moutput_dict\u001b[0m\u001b[0;34m[\u001b[0m\u001b[0;34m\"qid\"\u001b[0m\u001b[0;34m]\u001b[0m\u001b[0;34m]\u001b[0m\u001b[0;34m\u001b[0m\u001b[0;34m\u001b[0m\u001b[0m\n\u001b[1;32m    347\u001b[0m         \u001b[0;32mreturn\u001b[0m \u001b[0moutput_dict\u001b[0m\u001b[0;34m\u001b[0m\u001b[0;34m\u001b[0m\u001b[0m\n",
      "\u001b[0;32m~/Documents/repositories/continual_learning_of_long_topic/lire/dataset/msmarco.py\u001b[0m in \u001b[0;36m__getitem__\u001b[0;34m(self, index)\u001b[0m\n\u001b[1;32m    186\u001b[0m \u001b[0;34m\u001b[0m\u001b[0m\n\u001b[1;32m    187\u001b[0m     \u001b[0;32mdef\u001b[0m \u001b[0m__getitem__\u001b[0m\u001b[0;34m(\u001b[0m\u001b[0mself\u001b[0m\u001b[0;34m,\u001b[0m \u001b[0mindex\u001b[0m\u001b[0;34m)\u001b[0m\u001b[0;34m:\u001b[0m\u001b[0;34m\u001b[0m\u001b[0;34m\u001b[0m\u001b[0m\n\u001b[0;32m--> 188\u001b[0;31m         \u001b[0mquery_index\u001b[0m \u001b[0;34m=\u001b[0m \u001b[0mself\u001b[0m\u001b[0;34m.\u001b[0m\u001b[0mqueries_index\u001b[0m\u001b[0;34m[\u001b[0m\u001b[0mindex\u001b[0m\u001b[0;34m]\u001b[0m\u001b[0;34m\u001b[0m\u001b[0;34m\u001b[0m\u001b[0m\n\u001b[0m\u001b[1;32m    189\u001b[0m         \u001b[0;32mreturn\u001b[0m \u001b[0mself\u001b[0m\u001b[0;34m.\u001b[0m\u001b[0mget_data_by_query_id\u001b[0m\u001b[0;34m(\u001b[0m\u001b[0mquery_index\u001b[0m\u001b[0;34m)\u001b[0m\u001b[0;34m\u001b[0m\u001b[0;34m\u001b[0m\u001b[0m\n\u001b[1;32m    190\u001b[0m \u001b[0;34m\u001b[0m\u001b[0m\n",
      "\u001b[0;31mIndexError\u001b[0m: list index out of range"
     ]
    }
   ],
   "source": [
    "dataset[0]"
   ]
  },
  {
   "cell_type": "code",
   "execution_count": 5,
   "id": "e500f918",
   "metadata": {},
   "outputs": [
    {
     "data": {
      "text/plain": [
       "{'qid': '1141090',\n",
       " 'qtxt': 'where is hogwarts a real place',\n",
       " 'pdid': ['2434703'],\n",
       " 'pdtxt': ['In the novels, the Hogwarts School of Witchcraft and Wizardry is located in the Scottish Highlands. Few places in the world have the mystique that the Highlands possess, and while it naturally seems like the perfect place for the real Hogwarts, sadly you will not be able to find such an edifice in this region. Real Hogwarts'],\n",
       " 'ndid': [8485702, 1569152],\n",
       " 'ndtxt': ['Learn what makes Donalds , South Carolina a best place to live, including information about real estate, schools, employers, things to do and more. Learn what makes Donalds , South Carolina a best place to live, including information about real estate, schools, employers, things to do and more.',\n",
       "  'The best place to start your real estate search. Trulia is an all-in-one real estate site that gives you the local scoop about homes for sale, apartments for rent, neighborhood insights, and real estate markets and trends to help you figure out exactly what, where, and when to buy, sell, or rent.he best place to start your real estate search. Trulia is an all-in-one real estate site that gives you the local scoop about homes for sale, apartments for rent, neighborhood insights, and real estate markets and trends to help you figure out exactly what, where, and when to buy, sell, or rent.'],\n",
       " 'tid': 0}"
      ]
     },
     "execution_count": 5,
     "metadata": {},
     "output_type": "execute_result"
    }
   ],
   "source": [
    "dataset[156]"
   ]
  },
  {
   "cell_type": "code",
   "execution_count": 6,
   "id": "928d0335",
   "metadata": {},
   "outputs": [
    {
     "name": "stdout",
     "output_type": "stream",
     "text": [
      "Example of queries for the task 0 :\n",
      " ['good temperature to keep food warm in oven', 'how long does it take a chicken to hatch after pipping', 'home fries calories per ounce', 'what smoker temperature for barbecue chicken', 'how long does bbq chicken take to cook', 'sonic boneless chicken wings how many carbs', 'how long does it take to bake chicken legs', 'how long to bake chicken cubes in oven', 'how long to bake chicken thighs in the oven', 'at what temperature do i roast a chicken in the oven']\n"
     ]
    }
   ],
   "source": [
    "dataset.set_task(1)\n",
    "print(\"Example of queries for the task 0 :\\n\", [dataset[i]['qtxt'] for i in range(10)])"
   ]
  },
  {
   "cell_type": "code",
   "execution_count": 7,
   "id": "cc0ca29e",
   "metadata": {},
   "outputs": [
    {
     "name": "stdout",
     "output_type": "stream",
     "text": [
      "Example of queries for the task 10 :\n",
      " ['subscription to pubmed typically cost', 'salary level of an acute care nurse practitioner', 'how many payment years in medicaid', 'how much do doctors make giving botox', 'can i make money as an independent respiratory therapist', 'what c-peptide medicare requirement', 'what organizations support professional medical assistants', 'what is a medical records technician salary', 'medical technologist average salary', 'vesicare medication cost']\n"
     ]
    }
   ],
   "source": [
    "dataset.set_task(12)\n",
    "print(\"Example of queries for the task 10 :\\n\", [dataset[i]['qtxt'] for i in range(10)])"
   ]
  },
  {
   "cell_type": "markdown",
   "id": "4874dc35",
   "metadata": {},
   "source": [
    "## Transform the input (exemple for MonoT5)\n",
    " Here an example for transforming the input for monoT5 `Query:%s Document:%s Relevant:`"
   ]
  },
  {
   "cell_type": "code",
   "execution_count": 8,
   "id": "03dd0301",
   "metadata": {},
   "outputs": [],
   "source": [
    "import os "
   ]
  },
  {
   "cell_type": "code",
   "execution_count": 53,
   "id": "275f41d5",
   "metadata": {},
   "outputs": [],
   "source": [
    "from lire.trainer import monoT5\n",
    "from lire.trainer.lire_experiment import dict_collate_fn"
   ]
  },
  {
   "cell_type": "code",
   "execution_count": 37,
   "id": "471a1271",
   "metadata": {},
   "outputs": [],
   "source": [
    "dataset.set_n_sample_negative(1)\n",
    "dt = monoT5.MonoT5TrainingDataset(dataset)"
   ]
  },
  {
   "cell_type": "code",
   "execution_count": 38,
   "id": "1cda88ea",
   "metadata": {},
   "outputs": [
    {
     "data": {
      "text/plain": [
       "'Query:what c-peptide medicare requirement Document:Because the Medicare ambulance benefit is a transport benefit, if no transport of a Medicare beneficiary occurs, then there is no Medicare-covered service. In general, if the beneficiary dies before being transported, then no Medicare payment may be made. Relevant:'"
      ]
     },
     "execution_count": 38,
     "metadata": {},
     "output_type": "execute_result"
    }
   ],
   "source": [
    "# positive input\n",
    "dt[5]['ninput']"
   ]
  },
  {
   "cell_type": "code",
   "execution_count": 39,
   "id": "1545e5de",
   "metadata": {},
   "outputs": [
    {
     "data": {
      "text/plain": [
       "'Query:what c-peptide medicare requirement Document:C peptide test and Medicare. To qualify for a pump under medicare. The test is designed to disqualify T2. Glucose must be 225 or more, c-peptide 110% or less of the minimum normal at your lab, simultaneous. -Lloyd. Actually, I believe that medicare requires that CMS has determined that fasting C-peptide levels will only be considered valid when a concurrently obtained fasting glucose is < 225 mg/dL. Relevant:'"
      ]
     },
     "execution_count": 39,
     "metadata": {},
     "output_type": "execute_result"
    }
   ],
   "source": [
    "# negative input\n",
    "dt[5]['pinput']"
   ]
  },
  {
   "cell_type": "code",
   "execution_count": 40,
   "id": "487c69ff",
   "metadata": {},
   "outputs": [
    {
     "name": "stdout",
     "output_type": "stream",
     "text": [
      "DDPLIReExperiment using master node  localhost on 8879\n",
      "checking data_folder\n",
      "Logs will be find at  /people/gerald/test/DDPMonoT5-topics/run_3\n"
     ]
    }
   ],
   "source": [
    "trainer = monoT5.DDPMonoT5(hyperparameters={'log_folder': '~/test', 'dataset':'topics', 'switch':'' })"
   ]
  },
  {
   "cell_type": "code",
   "execution_count": 41,
   "id": "620e48b3",
   "metadata": {},
   "outputs": [],
   "source": [
    "from torch.utils.data import DataLoader"
   ]
  },
  {
   "cell_type": "code",
   "execution_count": 51,
   "id": "ffc4d59d",
   "metadata": {
    "scrolled": true
   },
   "outputs": [
    {
     "data": {
      "text/plain": [
       "text    subscription to pubmed typically cost\n",
       "Name: 504888, dtype: object"
      ]
     },
     "execution_count": 51,
     "metadata": {},
     "output_type": "execute_result"
    }
   ],
   "source": [
    "dt.dataset.queries_collection.loc['504888']"
   ]
  },
  {
   "cell_type": "code",
   "execution_count": 57,
   "id": "36b8e37a",
   "metadata": {},
   "outputs": [],
   "source": [
    "dl = DataLoader(dt , batch_size=2, collate_fn=dict_collate_fn)"
   ]
  },
  {
   "cell_type": "code",
   "execution_count": 58,
   "id": "f263f2a4",
   "metadata": {
    "scrolled": false
   },
   "outputs": [
    {
     "data": {
      "text/plain": [
       "{'qid': ['504888', '491785'],\n",
       " 'qtxt': ['subscription to pubmed typically cost',\n",
       "  'salary level of an acute care nurse practitioner'],\n",
       " 'pdid': [['7006123', '7006129'], ['6284118']],\n",
       " 'pdtxt': [[\"Subscription-based pricing is increasingly being used for cloud computing. In a subscription-based model, cloud customers typically pay upfront, prior to receiving access to cloud services. Prices are often based on the subscription's length and a longer subscription often translates to a lower cost.\",\n",
       "   \"subscription-based pricing model. A subscription-based pricing model is a payment structure that allows a customer or organization to purchase or subscribe to a vendor's IT services for a specific period of time for a set price. Subscribers typically commit to the services on a monthly or annual basis.\"],\n",
       "  ['Acute care nurse practitioner with less than 1 year of experience collects an average yearly pay from $50,048 to $81,094 while an acute care nurse practitioner practicing for 1 to 5 years of experience receives an average salary from $48,874 to $117,446 per annum.']],\n",
       " 'ndid': [[2038938], [2904129]],\n",
       " 'ndtxt': [['Details about your Norton subscription: 1  Your subscription begins when your purchase is completed for online payments, (or otherwise, when your payment is received). 2  By subscribing, you are purchasing a recurring subscription which will automatically renew annually after the first term.'],\n",
       "  [\"Nurse Vs. Nurse Practitioner: What's the Difference. Nurse practitioners and nurses are both healthcare workers specializing in patient care, rehabilitation and the education of patients and their families. Aside from educational requirements, one of the biggest differences is that nurse practitioners can prescribe medications.\"]],\n",
       " 'tid': [12, 12],\n",
       " 'pinput': [\"Query:subscription to pubmed typically cost Document:Subscription-based pricing is increasingly being used for cloud computing. In a subscription-based model, cloud customers typically pay upfront, prior to receiving access to cloud services. Prices are often based on the subscription's length and a longer subscription often translates to a lower cost. Relevant:\",\n",
       "  'Query:salary level of an acute care nurse practitioner Document:Acute care nurse practitioner with less than 1 year of experience collects an average yearly pay from $50,048 to $81,094 while an acute care nurse practitioner practicing for 1 to 5 years of experience receives an average salary from $48,874 to $117,446 per annum. Relevant:'],\n",
       " 'ninput': ['Query:subscription to pubmed typically cost Document:Details about your Norton subscription: 1  Your subscription begins when your purchase is completed for online payments, (or otherwise, when your payment is received). 2  By subscribing, you are purchasing a recurring subscription which will automatically renew annually after the first term. Relevant:',\n",
       "  \"Query:salary level of an acute care nurse practitioner Document:Nurse Vs. Nurse Practitioner: What's the Difference. Nurse practitioners and nurses are both healthcare workers specializing in patient care, rehabilitation and the education of patients and their families. Aside from educational requirements, one of the biggest differences is that nurse practitioners can prescribe medications. Relevant:\"],\n",
       " 'spdid': ['7006123', '6284118'],\n",
       " 'npdid': [2038938, 2904129]}"
      ]
     },
     "execution_count": 58,
     "metadata": {},
     "output_type": "execute_result"
    }
   ],
   "source": [
    "next(iter(dl))"
   ]
  },
  {
   "cell_type": "code",
   "execution_count": 62,
   "id": "84d2517c",
   "metadata": {},
   "outputs": [
    {
     "data": {
      "text/plain": [
       "{'input_ids': tensor([[    3, 27569,    10,  7304, 11830,    12, 11943,  2726,  3115,   583,\n",
       "          11167,    10, 25252, 11830,    18,   390,  5769,    19,  5684,   271,\n",
       "            261,    21,  3126, 10937,     5,    86,     3,     9,  7644,    18,\n",
       "            390,   825,     6,  3126,   722,  3115,   726, 25440,     6,  1884,\n",
       "             12,  4281,   592,    12,  3126,   364,     5, 16511,    33,   557,\n",
       "              3,   390,    30,     8,  7644,    31,     7,  2475,    11,     3,\n",
       "              9,  1200,  7644,   557,     3, 29213,    12,     3,     9,  1364,\n",
       "            583,     5, 31484,    17,    10,     1,     0,     0,     0,     0,\n",
       "              0,     0,     0,     0,     0,     0,     0,     0,     0,     0,\n",
       "              0,     0,     0,     0,     0,     0,     0,     0,     0,     0,\n",
       "              0,     0,     0,     0,     0,     0,     0,     0,     0,     0,\n",
       "              0,     0,     0,     0,     0,     0,     0,     0,     0,     0,\n",
       "              0,     0,     0,     0,     0,     0,     0,     0,     0,     0,\n",
       "              0,     0,     0,     0,     0,     0,     0,     0,     0,     0,\n",
       "              0],\n",
       "         [    3, 27569,    10,     7,   138,  1208,   593,    13,    46, 12498,\n",
       "            124, 10444, 19609, 11167,    10,   188, 15835,   124, 10444, 19609,\n",
       "             28,   705,   145,   209,   215,    13,   351,  2868,     7,    46,\n",
       "           1348,     3, 22286,   726,    45, 13309,     6,   632,  3707,    12,\n",
       "          13155,  4347,  4198,   591,   298,    46, 12498,   124, 10444, 19609,\n",
       "          14355,    21,   209,    12,   305,   203,    13,   351,   911,     7,\n",
       "             46,  1348,  9090,    45,  7514, 11864,  4225,   591,    12,  1970,\n",
       "           2517,     6,   591,  4448,   399,    46,  5525,     5, 31484,    17,\n",
       "             10,     1,     0,     0,     0,     0,     0,     0,     0,     0,\n",
       "              0,     0,     0,     0,     0,     0,     0,     0,     0,     0,\n",
       "              0,     0,     0,     0,     0,     0,     0,     0,     0,     0,\n",
       "              0,     0,     0,     0,     0,     0,     0,     0,     0,     0,\n",
       "              0,     0,     0,     0,     0,     0,     0,     0,     0,     0,\n",
       "              0,     0,     0,     0,     0,     0,     0,     0,     0,     0,\n",
       "              0],\n",
       "         [    3, 27569,    10,  7304, 11830,    12, 11943,  2726,  3115,   583,\n",
       "          11167,    10,  3774,    31,   195,    43,     8,  1160,    13,     3,\n",
       "              9,   847,    18,   969,    18,  7393,  7644,    44,     8,   583,\n",
       "             13, 26845,     5,  3301,    87,  7393,     6,    42,    25,    54,\n",
       "            854,     3,     9,   220,   847,     6,     3,     9,   431,   847,\n",
       "             42,     3,     9,   586,   847,    87,  1329,    40,   215,  7644,\n",
       "              5,    27,  3260,    12,   281,   847,    57,   847,     6,    68,\n",
       "             25,    54,  9179,   136,    13,    70,  1390,    44,   136,    97,\n",
       "             11,    21,   136,  1053,     5, 31484,    17,    10,     1,     0,\n",
       "              0,     0,     0,     0,     0,     0,     0,     0,     0,     0,\n",
       "              0,     0,     0,     0,     0,     0,     0,     0,     0,     0,\n",
       "              0,     0,     0,     0,     0,     0,     0,     0,     0,     0,\n",
       "              0,     0,     0,     0,     0,     0,     0,     0,     0,     0,\n",
       "              0,     0,     0,     0,     0,     0,     0,     0,     0,     0,\n",
       "              0],\n",
       "         [    3, 27569,    10,     7,   138,  1208,   593,    13,    46, 12498,\n",
       "            124, 10444, 19609, 11167,    10,  3809,   677,     8, 15572,  1644,\n",
       "           2041,   726,    21,     3,     9,  4541, 20252, 27792,    16,     8,\n",
       "            907,  1323,    19,  9103, 11071,   632,  2445,    78,  5743,    13,\n",
       "              8,   151,   113,  1912,     8,   613,    13, 20252, 27792,    16,\n",
       "              8,   907,  1323,    33,  1644,    12,   143,   705,   145,  9103,\n",
       "          11071,   632,  2445,     5, 23799,    10,  8383,   419, 16262,   331,\n",
       "             38,    13,  1797,  5337,   536,  5158,  1208,     5, 10193,  5059,\n",
       "           8788,     8,  1644,  5294,    13,   151,   113,  1912,     8,   613,\n",
       "             13, 20252, 27792,    16, 11772,    32,    40,    83,    76,     6,\n",
       "              3,  7094,    24,   143,   705,   145,    24,  9090,     5,   242,\n",
       "            677,  5743,    13,     8,   151,   113,  1912,     8,   613,    13,\n",
       "          20252, 27792,    16, 11772,    32,    40,    83,    76,    33,  1644,\n",
       "             12,   143,   705,   145,     8, 15572,     5, 31484,    17,    10,\n",
       "              1]]),\n",
       " 'attention_mask': tensor([[1, 1, 1, 1, 1, 1, 1, 1, 1, 1, 1, 1, 1, 1, 1, 1, 1, 1, 1, 1, 1, 1, 1, 1,\n",
       "          1, 1, 1, 1, 1, 1, 1, 1, 1, 1, 1, 1, 1, 1, 1, 1, 1, 1, 1, 1, 1, 1, 1, 1,\n",
       "          1, 1, 1, 1, 1, 1, 1, 1, 1, 1, 1, 1, 1, 1, 1, 1, 1, 1, 1, 1, 1, 1, 1, 1,\n",
       "          1, 1, 1, 1, 0, 0, 0, 0, 0, 0, 0, 0, 0, 0, 0, 0, 0, 0, 0, 0, 0, 0, 0, 0,\n",
       "          0, 0, 0, 0, 0, 0, 0, 0, 0, 0, 0, 0, 0, 0, 0, 0, 0, 0, 0, 0, 0, 0, 0, 0,\n",
       "          0, 0, 0, 0, 0, 0, 0, 0, 0, 0, 0, 0, 0, 0, 0, 0, 0, 0, 0, 0, 0],\n",
       "         [1, 1, 1, 1, 1, 1, 1, 1, 1, 1, 1, 1, 1, 1, 1, 1, 1, 1, 1, 1, 1, 1, 1, 1,\n",
       "          1, 1, 1, 1, 1, 1, 1, 1, 1, 1, 1, 1, 1, 1, 1, 1, 1, 1, 1, 1, 1, 1, 1, 1,\n",
       "          1, 1, 1, 1, 1, 1, 1, 1, 1, 1, 1, 1, 1, 1, 1, 1, 1, 1, 1, 1, 1, 1, 1, 1,\n",
       "          1, 1, 1, 1, 1, 1, 1, 1, 1, 1, 0, 0, 0, 0, 0, 0, 0, 0, 0, 0, 0, 0, 0, 0,\n",
       "          0, 0, 0, 0, 0, 0, 0, 0, 0, 0, 0, 0, 0, 0, 0, 0, 0, 0, 0, 0, 0, 0, 0, 0,\n",
       "          0, 0, 0, 0, 0, 0, 0, 0, 0, 0, 0, 0, 0, 0, 0, 0, 0, 0, 0, 0, 0],\n",
       "         [1, 1, 1, 1, 1, 1, 1, 1, 1, 1, 1, 1, 1, 1, 1, 1, 1, 1, 1, 1, 1, 1, 1, 1,\n",
       "          1, 1, 1, 1, 1, 1, 1, 1, 1, 1, 1, 1, 1, 1, 1, 1, 1, 1, 1, 1, 1, 1, 1, 1,\n",
       "          1, 1, 1, 1, 1, 1, 1, 1, 1, 1, 1, 1, 1, 1, 1, 1, 1, 1, 1, 1, 1, 1, 1, 1,\n",
       "          1, 1, 1, 1, 1, 1, 1, 1, 1, 1, 1, 1, 1, 1, 1, 1, 1, 0, 0, 0, 0, 0, 0, 0,\n",
       "          0, 0, 0, 0, 0, 0, 0, 0, 0, 0, 0, 0, 0, 0, 0, 0, 0, 0, 0, 0, 0, 0, 0, 0,\n",
       "          0, 0, 0, 0, 0, 0, 0, 0, 0, 0, 0, 0, 0, 0, 0, 0, 0, 0, 0, 0, 0],\n",
       "         [1, 1, 1, 1, 1, 1, 1, 1, 1, 1, 1, 1, 1, 1, 1, 1, 1, 1, 1, 1, 1, 1, 1, 1,\n",
       "          1, 1, 1, 1, 1, 1, 1, 1, 1, 1, 1, 1, 1, 1, 1, 1, 1, 1, 1, 1, 1, 1, 1, 1,\n",
       "          1, 1, 1, 1, 1, 1, 1, 1, 1, 1, 1, 1, 1, 1, 1, 1, 1, 1, 1, 1, 1, 1, 1, 1,\n",
       "          1, 1, 1, 1, 1, 1, 1, 1, 1, 1, 1, 1, 1, 1, 1, 1, 1, 1, 1, 1, 1, 1, 1, 1,\n",
       "          1, 1, 1, 1, 1, 1, 1, 1, 1, 1, 1, 1, 1, 1, 1, 1, 1, 1, 1, 1, 1, 1, 1, 1,\n",
       "          1, 1, 1, 1, 1, 1, 1, 1, 1, 1, 1, 1, 1, 1, 1, 1, 1, 1, 1, 1, 1]]),\n",
       " 'labels': tensor([[1176,    1],\n",
       "         [1176,    1],\n",
       "         [6136,    1],\n",
       "         [6136,    1]])}"
      ]
     },
     "execution_count": 62,
     "metadata": {},
     "output_type": "execute_result"
    }
   ],
   "source": [
    "from transformers import T5Tokenizer, T5ForConditionalGeneration\n",
    "trainer.tokenizer = T5Tokenizer.from_pretrained('t5-small')\n",
    "trainer.device = 'cpu'\n",
    "trainer.batch_transform(next(iter(dl)))"
   ]
  }
 ],
 "metadata": {
  "kernelspec": {
   "display_name": "Python 3 (ipykernel)",
   "language": "python",
   "name": "python3"
  },
  "language_info": {
   "codemirror_mode": {
    "name": "ipython",
    "version": 3
   },
   "file_extension": ".py",
   "mimetype": "text/x-python",
   "name": "python",
   "nbconvert_exporter": "python",
   "pygments_lexer": "ipython3",
   "version": "3.8.12"
  }
 },
 "nbformat": 4,
 "nbformat_minor": 5
}
