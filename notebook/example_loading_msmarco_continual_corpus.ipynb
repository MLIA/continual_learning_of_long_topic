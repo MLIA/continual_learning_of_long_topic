{
 "cells": [
  {
   "cell_type": "code",
   "execution_count": 1,
   "id": "96dc3157",
   "metadata": {},
   "outputs": [
    {
     "name": "stdout",
     "output_type": "stream",
     "text": [
      "/people/gerald/Documents/repositories/continual_learning_of_long_topic\n"
     ]
    }
   ],
   "source": [
    "cd .."
   ]
  },
  {
   "cell_type": "code",
   "execution_count": 2,
   "id": "e34e4b79",
   "metadata": {},
   "outputs": [],
   "source": [
    "from lire.dataset import msmarco\n",
    "import os\n",
    "os.environ['DATA_FOLDER'] = './storage'"
   ]
  },
  {
   "cell_type": "code",
   "execution_count": 3,
   "id": "4861b612",
   "metadata": {
    "scrolled": true
   },
   "outputs": [
    {
     "name": "stdout",
     "output_type": "stream",
     "text": [
      "Loading qrels\n",
      "Loading documents\n",
      "Loading queries\n",
      "loading triplet\n",
      "loading scoreddocs\n",
      "loading scoreddocs\n"
     ]
    }
   ],
   "source": [
    "# it can be costly in term of memory ~ 20 Go if load_triplets is set to true, first time dataset is created can be quiet long\n",
    "dataset = msmarco.MSMarcoRankingDataset('ressources/V1.0/MsMarco-continual-medium/', load_triplets=True)"
   ]
  },
  {
   "cell_type": "code",
   "execution_count": 4,
   "id": "c37ad38f",
   "metadata": {},
   "outputs": [],
   "source": [
    "# first time adressing the task you will have to wait some seconds\n",
    "dataset.set_task(9)"
   ]
  },
  {
   "cell_type": "code",
   "execution_count": 5,
   "id": "869b2d51",
   "metadata": {},
   "outputs": [],
   "source": [
    "dataset.set_split('train')\n",
    "dataset.set_n_sample_negative(2)"
   ]
  },
  {
   "cell_type": "code",
   "execution_count": 6,
   "id": "920a87a1",
   "metadata": {},
   "outputs": [
    {
     "data": {
      "text/plain": [
       "{'qid': '628923',\n",
       " 'qtxt': 'what does a fertility specialist do',\n",
       " 'pdid': ['6054017'],\n",
       " 'pdtxt': ['A fertility specialist diagnoses and treats problems related to infertility. If you have been trying to get pregnant for a year (or six months if you are over 35) and natural conception is not working, a fertility specialist can diagnose and treat your problems. Examples of infertility problems include: 1  Endometriosis.2  Problems with ovulation. 3  Polycystic ovarian syndrome (PCOS).lso, if you have had two or more miscarriages, a fertility specialist may diagnose the cause of the miscarriages. The specialist would then guide you in selecting procedures that may help prevent miscarriage so you carry the baby to term.'],\n",
       " 'ndid': [3957133, 1805134],\n",
       " 'ndtxt': ['Herbal Remedies for Fertility. If you and your partner are have difficulty conceiving, than you may be interested in looking into possible fertility treatments. There are a number of fertility treatments, including IUI and IVF that are highly effective when it comes to increasing your chances of conception.',\n",
       "  'Total fertility rate: 2.17 children born/woman (2017 est.) Definition: This entry gives a figure for the average number of children that would be born per woman if all women lived to the end of their childbearing years and bore children according to a given fertility rate at each age. The total fertility rate (TFR) is a more direct measure of the level of fertility than the crude birth rate, since it refers to births per woman. This indicator shows the potential for population change in the country.'],\n",
       " 'tid': 9}"
      ]
     },
     "execution_count": 6,
     "metadata": {},
     "output_type": "execute_result"
    }
   ],
   "source": [
    "dataset[1268]"
   ]
  },
  {
   "cell_type": "code",
   "execution_count": 7,
   "id": "928d0335",
   "metadata": {},
   "outputs": [
    {
     "name": "stdout",
     "output_type": "stream",
     "text": [
      "Example of queries for the task 0 :\n",
      " ['do chickens smell bad', 'good temperature to keep food warm in oven', 'how long to cook steelhead trout in oven', 'when did the chicken pox vaccine come out', 'how long does it take a chicken to hatch after pipping', 'home fries calories per ounce', 'what smoker temperature for barbecue chicken', 'how long does bbq chicken take to cook', 'sonic boneless chicken wings how many carbs', 'how long does it take chicken to bake in the oven until its completely done']\n"
     ]
    }
   ],
   "source": [
    "dataset.set_task(1)\n",
    "print(\"Example of queries for the task 0 :\\n\", [dataset[i]['qtxt'] for i in range(10)])"
   ]
  },
  {
   "cell_type": "code",
   "execution_count": 8,
   "id": "cc0ca29e",
   "metadata": {},
   "outputs": [
    {
     "name": "stdout",
     "output_type": "stream",
     "text": [
      "Example of queries for the task 10 :\n",
      " ['subscription to pubmed typically cost', 'salary level of an acute care nurse practitioner', 'until what age medical insurance for students', 'how many payment years in medicaid', 'how much do doctors make giving botox', 'how much does a general surgeon earn in australia', 'hospital pharmacist salary payscale', 'can i make money as an independent respiratory therapist', 'what c-peptide medicare requirement', 'what organizations support professional medical assistants']\n"
     ]
    }
   ],
   "source": [
    "dataset.set_task(12)\n",
    "print(\"Example of queries for the task 10 :\\n\", [dataset[i]['qtxt'] for i in range(10)])"
   ]
  },
  {
   "cell_type": "code",
   "execution_count": null,
   "id": "9e863748",
   "metadata": {},
   "outputs": [],
   "source": []
  }
 ],
 "metadata": {
  "kernelspec": {
   "display_name": "Python 3 (ipykernel)",
   "language": "python",
   "name": "python3"
  },
  "language_info": {
   "codemirror_mode": {
    "name": "ipython",
    "version": 3
   },
   "file_extension": ".py",
   "mimetype": "text/x-python",
   "name": "python",
   "nbconvert_exporter": "python",
   "pygments_lexer": "ipython3",
   "version": "3.8.12"
  }
 },
 "nbformat": 4,
 "nbformat_minor": 5
}
