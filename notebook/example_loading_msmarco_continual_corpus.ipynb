{
 "cells": [
  {
   "cell_type": "code",
   "execution_count": 1,
   "id": "96dc3157",
   "metadata": {},
   "outputs": [
    {
     "name": "stdout",
     "output_type": "stream",
     "text": [
      "/home/thomasgerald/Documents/continual_learning_of_long_topic\n"
     ]
    }
   ],
   "source": [
    "cd .."
   ]
  },
  {
   "cell_type": "code",
   "execution_count": 2,
   "id": "e34e4b79",
   "metadata": {},
   "outputs": [],
   "source": [
    "from lire.dataset import msmarco\n",
    "import os\n",
    "os.environ['DATA_FOLDER'] = '/home/thomasgerald/storage'"
   ]
  },
  {
   "cell_type": "code",
   "execution_count": null,
   "id": "4861b612",
   "metadata": {},
   "outputs": [
    {
     "name": "stdout",
     "output_type": "stream",
     "text": [
      "Loading qrels\n",
      "Loading documents\n",
      "Loading queries\n",
      "Compute the index...\n",
      "WARNING: sun.reflect.Reflection.getCallerClass is not supported. This will impact performance.\n",
      "2022-04-12 22:45:13,043 INFO  [main] index.IndexCollection (IndexCollection.java:643) - Setting log level to INFO\n",
      "2022-04-12 22:45:13,045 INFO  [main] index.IndexCollection (IndexCollection.java:646) - Starting indexer...\n",
      "2022-04-12 22:45:13,045 INFO  [main] index.IndexCollection (IndexCollection.java:647) - ============ Loading Parameters ============\n",
      "2022-04-12 22:45:13,045 INFO  [main] index.IndexCollection (IndexCollection.java:648) - DocumentCollection path: /home/thomasgerald/storage/lire/MSMarcoRanking/627f1d2e176e571f82535ef9da5f2d1c454191e1/msmarco_base/documents_collection\n",
      "2022-04-12 22:45:13,046 INFO  [main] index.IndexCollection (IndexCollection.java:649) - CollectionClass: JsonCollection\n",
      "2022-04-12 22:45:13,046 INFO  [main] index.IndexCollection (IndexCollection.java:650) - Generator: DefaultLuceneDocumentGenerator\n",
      "2022-04-12 22:45:13,046 INFO  [main] index.IndexCollection (IndexCollection.java:651) - Threads: 1\n",
      "2022-04-12 22:45:13,046 INFO  [main] index.IndexCollection (IndexCollection.java:652) - Language: en\n",
      "2022-04-12 22:45:13,046 INFO  [main] index.IndexCollection (IndexCollection.java:653) - Stemmer: porter\n",
      "2022-04-12 22:45:13,047 INFO  [main] index.IndexCollection (IndexCollection.java:654) - Keep stopwords? false\n",
      "2022-04-12 22:45:13,047 INFO  [main] index.IndexCollection (IndexCollection.java:655) - Stopwords: null\n",
      "2022-04-12 22:45:13,047 INFO  [main] index.IndexCollection (IndexCollection.java:656) - Store positions? true\n",
      "2022-04-12 22:45:13,047 INFO  [main] index.IndexCollection (IndexCollection.java:657) - Store docvectors? true\n",
      "2022-04-12 22:45:13,047 INFO  [main] index.IndexCollection (IndexCollection.java:658) - Store document \"contents\" field? false\n",
      "2022-04-12 22:45:13,047 INFO  [main] index.IndexCollection (IndexCollection.java:659) - Store document \"raw\" field? true\n",
      "2022-04-12 22:45:13,048 INFO  [main] index.IndexCollection (IndexCollection.java:660) - Optimize (merge segments)? false\n",
      "2022-04-12 22:45:13,048 INFO  [main] index.IndexCollection (IndexCollection.java:661) - Whitelist: null\n",
      "2022-04-12 22:45:13,048 INFO  [main] index.IndexCollection (IndexCollection.java:662) - Pretokenized?: false\n",
      "2022-04-12 22:45:13,048 INFO  [main] index.IndexCollection (IndexCollection.java:682) - Directly building Lucene indexes...\n",
      "2022-04-12 22:45:13,048 INFO  [main] index.IndexCollection (IndexCollection.java:683) - Index path: /home/thomasgerald/storage/lire/MSMarcoRanking/627f1d2e176e571f82535ef9da5f2d1c454191e1/msmarco_base/index\n",
      "2022-04-12 22:45:13,050 INFO  [main] index.IndexCollection (IndexCollection.java:738) - ============ Indexing Collection ============\n",
      "2022-04-12 22:45:13,244 INFO  [main] index.IndexCollection (IndexCollection.java:839) - Thread pool with 1 threads initialized.\n",
      "2022-04-12 22:45:13,244 INFO  [main] index.IndexCollection (IndexCollection.java:841) - Initializing collection in /home/thomasgerald/storage/lire/MSMarcoRanking/627f1d2e176e571f82535ef9da5f2d1c454191e1/msmarco_base/documents_collection\n",
      "2022-04-12 22:45:13,248 INFO  [main] index.IndexCollection (IndexCollection.java:850) - 1 file found\n",
      "2022-04-12 22:45:13,249 INFO  [main] index.IndexCollection (IndexCollection.java:851) - Starting to index...\n",
      "2022-04-12 22:46:13,253 INFO  [main] index.IndexCollection (IndexCollection.java:869) - 1 180 000 documents indexed\n"
     ]
    }
   ],
   "source": [
    "# it can be costly in term of memory ~ 20 Go if load_triplets is set to true\n",
    "dataset = msmarco.MSMarcoRankingDataset('ressources/V1.0/MsMarco-continual-medium/', load_triplets=False)"
   ]
  }
 ],
 "metadata": {
  "kernelspec": {
   "display_name": "Python 3 (ipykernel)",
   "language": "python",
   "name": "python3"
  },
  "language_info": {
   "codemirror_mode": {
    "name": "ipython",
    "version": 3
   },
   "file_extension": ".py",
   "mimetype": "text/x-python",
   "name": "python",
   "nbconvert_exporter": "python",
   "pygments_lexer": "ipython3",
   "version": "3.8.13"
  }
 },
 "nbformat": 4,
 "nbformat_minor": 5
}
