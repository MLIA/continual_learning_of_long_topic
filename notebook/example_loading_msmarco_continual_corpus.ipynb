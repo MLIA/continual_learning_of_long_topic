{
 "cells": [
  {
   "cell_type": "code",
   "execution_count": 1,
   "id": "96dc3157",
   "metadata": {},
   "outputs": [
    {
     "name": "stdout",
     "output_type": "stream",
     "text": [
      "/home/thomasgerald/Documents/continual_learning_of_long_topic\n"
     ]
    }
   ],
   "source": [
    "cd .."
   ]
  },
  {
   "cell_type": "code",
   "execution_count": 2,
   "id": "e34e4b79",
   "metadata": {},
   "outputs": [],
   "source": [
    "from lire.dataset import msmarco\n",
    "import os\n",
    "os.environ['DATA_FOLDER'] = '/home/thomasgerald/storage'"
   ]
  },
  {
   "cell_type": "code",
   "execution_count": 3,
   "id": "4861b612",
   "metadata": {},
   "outputs": [
    {
     "name": "stdout",
     "output_type": "stream",
     "text": [
      "Loading qrels\n",
      "Loading documents\n",
      "Loading queries\n",
      "loading scoreddocs\n",
      "loading scoreddocs\n"
     ]
    }
   ],
   "source": [
    "# it can be costly in term of memory ~ 20 Go if load_triplets is set to true, first time dataset is created can be quiet long\n",
    "dataset = msmarco.MSMarcoRankingDataset('ressources/V1.0/MsMarco-continual-medium/', load_triplets=False)"
   ]
  },
  {
   "cell_type": "code",
   "execution_count": 19,
   "id": "928d0335",
   "metadata": {},
   "outputs": [
    {
     "name": "stdout",
     "output_type": "stream",
     "text": [
      "Example of queries for the task 0 :\n",
      " ['do chickens smell bad', 'good temperature to keep food warm in oven', 'how long to cook steelhead trout in oven', 'when did the chicken pox vaccine come out', 'how long does it take a chicken to hatch after pipping', 'home fries calories per ounce', 'what smoker temperature for barbecue chicken', 'how long does bbq chicken take to cook', 'sonic boneless chicken wings how many carbs', 'how long does it take chicken to bake in the oven until its completely done']\n"
     ]
    }
   ],
   "source": [
    "dataset.set_task(1)\n",
    "print(\"Example of queries for the task 0 :\\n\", [dataset[i]['qtxt'] for i in range(10)])"
   ]
  },
  {
   "cell_type": "code",
   "execution_count": 20,
   "id": "cc0ca29e",
   "metadata": {},
   "outputs": [
    {
     "name": "stdout",
     "output_type": "stream",
     "text": [
      "Example of queries for the task 10 :\n",
      " ['subscription to pubmed typically cost', 'salary level of an acute care nurse practitioner', 'until what age medical insurance for students', 'how many payment years in medicaid', 'how much do doctors make giving botox', 'how much does a general surgeon earn in australia', 'hospital pharmacist salary payscale', 'can i make money as an independent respiratory therapist', 'what c-peptide medicare requirement', 'what organizations support professional medical assistants']\n"
     ]
    }
   ],
   "source": [
    "dataset.set_task(12)\n",
    "print(\"Example of queries for the task 10 :\\n\", [dataset[i]['qtxt'] for i in range(10)])"
   ]
  },
  {
   "cell_type": "code",
   "execution_count": null,
   "id": "9e863748",
   "metadata": {},
   "outputs": [],
   "source": []
  }
 ],
 "metadata": {
  "kernelspec": {
   "display_name": "Python 3 (ipykernel)",
   "language": "python",
   "name": "python3"
  },
  "language_info": {
   "codemirror_mode": {
    "name": "ipython",
    "version": 3
   },
   "file_extension": ".py",
   "mimetype": "text/x-python",
   "name": "python",
   "nbconvert_exporter": "python",
   "pygments_lexer": "ipython3",
   "version": "3.8.13"
  }
 },
 "nbformat": 4,
 "nbformat_minor": 5
}
