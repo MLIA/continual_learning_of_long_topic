{
 "cells": [
  {
   "cell_type": "code",
   "execution_count": 21,
   "metadata": {},
   "outputs": [],
   "source": [
    "import os\n",
    "import inspect\n",
    "import sys\n",
    "%load_ext autoreload\n",
    "%autoreload 2\n",
    "sys.path.append(os.path.join(os.path.dirname(os.path.abspath(inspect.getfile(inspect.currentframe()))),\"..\"))"
   ]
  },
  {
   "cell_type": "code",
   "execution_count": 2,
   "metadata": {},
   "outputs": [],
   "source": [
    "from lire.data_tools.dataset import MSMarco"
   ]
  },
  {
   "cell_type": "markdown",
   "metadata": {},
   "source": [
    "## Positive (according to qrels files)"
   ]
  },
  {
   "cell_type": "code",
   "execution_count": 18,
   "metadata": {
    "scrolled": true
   },
   "outputs": [
    {
     "name": "stderr",
     "output_type": "stream",
     "text": [
      "/local/gerald/libraries/conda/envs/lire/lib/python3.9/site-packages/numpy/lib/arraysetops.py:583: FutureWarning: elementwise comparison failed; returning scalar instead, but in the future will perform elementwise comparison\n",
      "  mask |= (ar1 == a)\n"
     ]
    },
    {
     "name": "stdout",
     "output_type": "stream",
     "text": [
      "Creating the index\n"
     ]
    }
   ],
   "source": [
    "# config\n",
    "data_folder = '/local/gerald/CPD/data'\n",
    "split = 'train'\n",
    "\n",
    "# loading the corpus using positive\n",
    "dataset = MSMarco.MSMarcoPassageRankingTopicSmall(data_folder,\n",
    "                                                  download=False,\n",
    "                                                  split=split,\n",
    "                                                  getter='positive')"
   ]
  },
  {
   "cell_type": "code",
   "execution_count": 19,
   "metadata": {},
   "outputs": [
    {
     "name": "stdout",
     "output_type": "stream",
     "text": [
      "('temp for cooking pork loin', ['The National Pork Board recommends cooking pork chops, roasts, and tenderloin to an internal temperature between 145Â° F. (medium rare) and 160Â° F. (medium), followed by a 3 minute rest.Since large cuts increase approximately 10Â° F. while resting, remove them from the heat at 150Â° F. followed by a 10 minute rest.he National Pork Board recommends cooking pork chops, roasts, and tenderloin to an internal temperature between 145Â° F. (medium rare) and 160Â° F. (medium), followed by a 3 minute rest.'])\n"
     ]
    }
   ],
   "source": [
    "# sampling with positive documents\n",
    "print(dataset[0]) "
   ]
  },
  {
   "cell_type": "markdown",
   "metadata": {},
   "source": [
    "## Positive (according to qrels files)"
   ]
  },
  {
   "cell_type": "code",
   "execution_count": 20,
   "metadata": {},
   "outputs": [
    {
     "name": "stdout",
     "output_type": "stream",
     "text": [
      "Creating the index\n"
     ]
    }
   ],
   "source": [
    "# loading the corpus using triplet\n",
    "dataset = MSMarco.MSMarcoPassageRankingTopicSmall(data_folder,\n",
    "                                                  download=False,\n",
    "                                                  split=split,\n",
    "                                                  getter='triplet')"
   ]
  },
  {
   "cell_type": "code",
   "execution_count": null,
   "metadata": {},
   "outputs": [],
   "source": []
  },
  {
   "cell_type": "code",
   "execution_count": 17,
   "metadata": {},
   "outputs": [
    {
     "name": "stdout",
     "output_type": "stream",
     "text": [
      "Query samples : \n",
      "\n",
      "  ['what is fistula treatment', 'is obesity a complication of diabetes', 'how many people die from diabetes', 'why do people get diabetes', 'is diabetes insipidus hereditary', 'what are the symptoms and treatments for teething', 'number of people worldwide have diabetes', 'is diabetes a preventable disease', 'can uncontrolled diabetes cause mouth infections', 'precose medication for diabetes', 'what is fistula treatment', 'what weeks do you do gestational diabetes', 'is erectile dysfunction a symptom of diabetes?', 'is vertigo associated with diabetes', 'medication for diabetes insipidus in dogs', 'how to reverse ed caused by diabetes', 'what is diabetic nephropathy', 'what causes diabetic shock', 'what is diabetes mellitus symptoms', 'what type of diabetes is apidra insulin glulisine used for?', 'is diabetes a birth defect', 'what is diabetic shock', 'type 1 diabetes causes onset and treatment', 'what type of diabetes can a unborn baby develop?', 'what is diabetes dka', 'causes of death in diabetes', 'medications are contraindicated for diabetes', 'how to do you cure diabetes', 'explain the symptoms and signs of diabetes type 2', 'is diabetes a preventable disease', 'explain the symptoms and signs of diabetes type 2', 'is erectile dysfunction a symptom of diabetes?', 'diabetes insipidus symptoms in adults', 'type 1 diabetes also known as', 'does an endocrinologist treat diabetes', 'is type 1 diabetes genetic', 'which type of diabetes requires shots', 'what is hhns diabetes', 'what major body system affected by diabetes', 'what type of glaucoma is caused by diabetes', 'what type of diabetes is apidra insulin glulisine used for?', 'what is lada diabetes', 'how many people die from diabetes', 'what are the side effects of metformin', 'diabetes insipidus can be caused by', 'is diabetes an epidemic', 'what are the symptoms and treatments for teething', 'type two diabetes levels', 'can amlodipine cause diabetes', 'what the dx code for hyponatremia']\n"
     ]
    }
   ],
   "source": [
    "# using triplet \n",
    "# select a task\n",
    "dataset.set_current_task_by_id(553)\n",
    "# get queries of the task\n",
    "queries = [dataset[i][0] for i in range(50)]\n",
    "print(\"Query samples : \\n\\n \", queries)"
   ]
  },
  {
   "cell_type": "code",
   "execution_count": null,
   "metadata": {},
   "outputs": [],
   "source": []
  }
 ],
 "metadata": {
  "kernelspec": {
   "display_name": "lire",
   "language": "python",
   "name": "lire"
  },
  "language_info": {
   "codemirror_mode": {
    "name": "ipython",
    "version": 3
   },
   "file_extension": ".py",
   "mimetype": "text/x-python",
   "name": "python",
   "nbconvert_exporter": "python",
   "pygments_lexer": "ipython3",
   "version": "3.9.1"
  }
 },
 "nbformat": 4,
 "nbformat_minor": 2
}
